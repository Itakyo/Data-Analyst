{
 "cells": [
  {
   "attachments": {},
   "cell_type": "markdown",
   "metadata": {},
   "source": [
    "# Data Science Tools and Ecosystem"
   ]
  },
  {
   "attachments": {},
   "cell_type": "markdown",
   "metadata": {},
   "source": [
    "## In this notebook, Data Science Tools and Ecosystem are summarized."
   ]
  },
  {
   "attachments": {},
   "cell_type": "markdown",
   "metadata": {},
   "source": [
    "<p style=\"font-weight: bold\">Objectives:</p>\n",
    "<ul style=\"list-style-type:square;\">\n",
    "  <li>List popular languages for Data Science</li>\n",
    "  <li>Shere popular libraries used in data science</li>\n",
    "  <li>List on a table some famopus data science tools</li>\n",
    "  <li>Make your first operation using code cells</li>\n",
    "</ul>"
   ]
  },
  {
   "attachments": {},
   "cell_type": "markdown",
   "metadata": {},
   "source": [
    "<ol>\n",
    "  <p>Some of the popular languages that Data Scientists use are:</p>\n",
    "  <li>Python</li>\n",
    "  <li>R</li>\n",
    "  <li>C++</li>\n",
    "  <li>JS</li>\n",
    "  <li>Scala</li>\n",
    "</ol>\n"
   ]
  },
  {
   "attachments": {},
   "cell_type": "markdown",
   "metadata": {},
   "source": [
    "<ol>\n",
    "  <p>Some of the commonly used libraries used by Data Scientists include:</p>\n",
    "  <li>Pandas</li>\n",
    "  <li>NumPy</li>\n",
    "  <li>Sckit-Learn</li>\n",
    "  <li>Tensor-Flow</li>\n",
    "  <li>SciPy</li>\n",
    "</ol>"
   ]
  },
  {
   "attachments": {},
   "cell_type": "markdown",
   "metadata": {},
   "source": [
    "<table>\n",
    "  <tr>\n",
    "    <th>Data Science Tools</th>\n",
    "    \n",
    "  </tr>\n",
    "  <tr>\n",
    "    <td>Apache Spark</td>\n",
    "    \n",
    "  </tr>\n",
    "  <tr>\n",
    "    <td>Excel</td>\n",
    "    \n",
    "  </tr>\n",
    "  <tr>\n",
    "    <td>Tableau</td>\n",
    "    \n",
    "  </tr>\n",
    "</table>\n"
   ]
  },
  {
   "attachments": {},
   "cell_type": "markdown",
   "metadata": {},
   "source": [
    "<h3>Below are a few examples of evaluating arithmetic expressions in Pytho</h3>"
   ]
  },
  {
   "cell_type": "code",
   "execution_count": 2,
   "metadata": {},
   "outputs": [
    {
     "data": {
      "text/plain": [
       "17"
      ]
     },
     "execution_count": 2,
     "metadata": {},
     "output_type": "execute_result"
    }
   ],
   "source": [
    "#This a simple arithmetic expression to mutiply then add integers\n",
    "(3*4)+5"
   ]
  },
  {
   "cell_type": "code",
   "execution_count": 3,
   "metadata": {},
   "outputs": [
    {
     "data": {
      "text/plain": [
       "3.3333333333333335"
      ]
     },
     "execution_count": 3,
     "metadata": {},
     "output_type": "execute_result"
    }
   ],
   "source": [
    "#This will convert 200 minutes to hours by diving by 60\n",
    "m = 200\n",
    "h = m/60\n",
    "h\n"
   ]
  },
  {
   "attachments": {},
   "cell_type": "markdown",
   "metadata": {},
   "source": [
    "<h2>Author</h2>\n",
    "<p>Daniel Leonardo Robelto Bayona</p>"
   ]
  }
 ],
 "metadata": {
  "kernelspec": {
   "display_name": "Python 3",
   "language": "python",
   "name": "python3"
  },
  "language_info": {
   "codemirror_mode": {
    "name": "ipython",
    "version": 3
   },
   "file_extension": ".py",
   "mimetype": "text/x-python",
   "name": "python",
   "nbconvert_exporter": "python",
   "pygments_lexer": "ipython3",
   "version": "3.11.0"
  },
  "orig_nbformat": 4
 },
 "nbformat": 4,
 "nbformat_minor": 2
}
