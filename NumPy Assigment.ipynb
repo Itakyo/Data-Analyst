{
 "cells": [
  {
   "cell_type": "markdown",
   "id": "149bd4e0-39c8-4140-8221-09037caaf6ba",
   "metadata": {},
   "source": [
    "<h1 align='center'> Numpy Assigment</h1>\n",
    "\n",
    "![purple-divider](https://user-images.githubusercontent.com/7065401/52071927-c1cd7100-2562-11e9-908a-dde91ba14e59.png)\n",
    "\n",
    "## Hands on! \n",
    "\n",
    "Use your understanding of the concepts to arrive at your solution and be as flexible and creative as possible.\n",
    "\n",
    "Preguntas de esta tarea\n",
    "1. Import NumPy Library as np\n",
    "2. Create an array of integers starting from 15 to 40 and store it in a variable called array1\n",
    "\n",
    "2.1. Create a second array of integers starting from 10 until 25 and store it in a variable called array2\n",
    "\n",
    "2.2. What is the difference between the two arrays?\n",
    "\n",
    "3. Create an array of all even integers from 2 to 20 and name it even_aaray1\n",
    "\n",
    "3.1. Create an array of all even integers from 34 to 42 and name it even_array2\n",
    "\n",
    "3.2. Create a matrix of the two arrays using the stack function\n",
    "\n",
    "4. Create a 6×6 matrix with values ranging from 0 to 36 and retrieve the intersection of the 3rd row and 2nd column\n",
    "\n",
    "4.1. Create a 5×2 matrix from a standard normal distribution generated with python.\n",
    "\n",
    "4.2. Retrieve the value intersecting the last row and the last column of your matrix\n",
    "\n",
    "5. Using your matrix created at 4.1, calculate the following:\n",
    "\n",
    "     a. minimum of the matrix\n",
    "\n",
    "     b. maximum of the matrix\n",
    "\n",
    "     c. standard deviation of the matrix\n",
    "\n",
    "    d. variance of the matrix\n",
    "\n",
    "    e. mean of the matrix\n",
    "![purple-divider](https://user-images.githubusercontent.com/7065401/52071927-c1cd7100-2562-11e9-908a-dde91ba14e59.png)"
   ]
  },
  {
   "cell_type": "markdown",
   "id": "d7202dfd-4233-423a-9a5e-4153932ebae4",
   "metadata": {},
   "source": [
    "## 1.Import NumPy Library as np"
   ]
  },
  {
   "cell_type": "code",
   "execution_count": 2,
   "id": "54dce651-b61a-43f5-8555-0952109419d2",
   "metadata": {},
   "outputs": [],
   "source": [
    "import numpy as np"
   ]
  },
  {
   "cell_type": "markdown",
   "id": "8fcac68e-ddd3-4f4e-8008-fb33515dade1",
   "metadata": {},
   "source": [
    "## 2. Create an array of integers starting from 15 to 40 and store it in a variable called array1"
   ]
  },
  {
   "cell_type": "code",
   "execution_count": 7,
   "id": "c828da0f-d3b6-4477-9d24-eb60cead5c93",
   "metadata": {},
   "outputs": [
    {
     "data": {
      "text/plain": [
       "array([15, 16, 17, 18, 19, 20, 21, 22, 23, 24, 25, 26, 27, 28, 29, 30, 31,\n",
       "       32, 33, 34, 35, 36, 37, 38, 39])"
      ]
     },
     "execution_count": 7,
     "metadata": {},
     "output_type": "execute_result"
    }
   ],
   "source": [
    "array1 = np.arange(15,40)\n",
    "array1"
   ]
  },
  {
   "cell_type": "markdown",
   "id": "c7e3825a-45d2-4b2a-9dfb-43902fe809b4",
   "metadata": {
    "tags": []
   },
   "source": [
    "### 2.1. Create a second array of integers starting from 10 until 25 and store it in a variable called array2"
   ]
  },
  {
   "cell_type": "code",
   "execution_count": 8,
   "id": "ec917831-8497-4b82-ba96-5191f27d24d5",
   "metadata": {},
   "outputs": [
    {
     "data": {
      "text/plain": [
       "array([10, 11, 12, 13, 14, 15, 16, 17, 18, 19, 20, 21, 22, 23, 24, 25])"
      ]
     },
     "execution_count": 8,
     "metadata": {},
     "output_type": "execute_result"
    }
   ],
   "source": [
    "array2 = np.arange(10,26)\n",
    "array2"
   ]
  },
  {
   "cell_type": "markdown",
   "id": "c498ed29-3c3d-494e-90fa-597989f86067",
   "metadata": {
    "tags": []
   },
   "source": [
    "### 2.2. What is the difference between the two arrays? \n",
    "- In this case  array1 won't have the number 40, on the other hand, arry2 will have number 25 inside the array couse I had to incremt per 1 the  last limit (10,25+1) if I wanted to add the number 25 inside the array"
   ]
  },
  {
   "cell_type": "markdown",
   "id": "c53bad25-afa2-4714-888b-661831e8fd49",
   "metadata": {},
   "source": [
    "## 3.Create an array of all even integers from 2 to 20 and name it even_aaray1"
   ]
  },
  {
   "cell_type": "code",
   "execution_count": 20,
   "id": "a4f4572e-1bcd-426f-908f-d6a90d7b98ff",
   "metadata": {},
   "outputs": [
    {
     "data": {
      "text/plain": [
       "array([ 2,  4,  6,  8, 10, 12, 14, 16, 18])"
      ]
     },
     "execution_count": 20,
     "metadata": {},
     "output_type": "execute_result"
    }
   ],
   "source": [
    "even_aaray1 = np.arange(2, 20, 2)\n",
    "even_aaray1"
   ]
  },
  {
   "cell_type": "markdown",
   "id": "7046c0ed-c7f0-42c2-9809-81e60dbc2c76",
   "metadata": {},
   "source": [
    "### 3.1. Create an array of all even integers from 34 to 42 and name it even_array2"
   ]
  },
  {
   "cell_type": "code",
   "execution_count": 19,
   "id": "6502f784-06e1-4117-badc-6ad8026c92c3",
   "metadata": {},
   "outputs": [
    {
     "data": {
      "text/plain": [
       "array([34, 36, 38, 40])"
      ]
     },
     "execution_count": 19,
     "metadata": {},
     "output_type": "execute_result"
    }
   ],
   "source": [
    "even_array2 = np.arange(34, 42, 2)\n",
    "even_array2"
   ]
  },
  {
   "cell_type": "markdown",
   "id": "4f62752a-dd2f-4e19-999f-cc8cb2ef8fb9",
   "metadata": {},
   "source": [
    "## 3.2. Create a matrix of the two arrays using the stack function"
   ]
  },
  {
   "cell_type": "code",
   "execution_count": 56,
   "id": "53dc937a-9ccf-47cb-bd77-eaaa85e4329d",
   "metadata": {},
   "outputs": [
    {
     "ename": "ValueError",
     "evalue": "all input arrays must have the same shape",
     "output_type": "error",
     "traceback": [
      "\u001b[1;31m---------------------------------------------------------------------------\u001b[0m",
      "\u001b[1;31mValueError\u001b[0m                                Traceback (most recent call last)",
      "\u001b[1;32m~\\AppData\\Local\\Temp\\ipykernel_11888\\1895995742.py\u001b[0m in \u001b[0;36m<module>\u001b[1;34m\u001b[0m\n\u001b[1;32m----> 1\u001b[1;33m \u001b[0mnp\u001b[0m\u001b[1;33m.\u001b[0m\u001b[0mstack\u001b[0m\u001b[1;33m(\u001b[0m\u001b[1;33m(\u001b[0m\u001b[0meven_aaray1\u001b[0m\u001b[1;33m,\u001b[0m \u001b[0meven_array2\u001b[0m\u001b[1;33m)\u001b[0m\u001b[1;33m,\u001b[0m \u001b[0maxis\u001b[0m \u001b[1;33m=\u001b[0m \u001b[1;36m1\u001b[0m\u001b[1;33m)\u001b[0m\u001b[1;33m\u001b[0m\u001b[1;33m\u001b[0m\u001b[0m\n\u001b[0m\u001b[0;32m      2\u001b[0m \u001b[1;31m##  is not posible couse both arrays doesn't have the same shape I have questiosn about that, please give me on explanation\u001b[0m\u001b[1;33m\u001b[0m\u001b[1;33m\u001b[0m\u001b[0m\n",
      "\u001b[1;32m<__array_function__ internals>\u001b[0m in \u001b[0;36mstack\u001b[1;34m(*args, **kwargs)\u001b[0m\n",
      "\u001b[1;32m~\\anaconda3\\lib\\site-packages\\numpy\\core\\shape_base.py\u001b[0m in \u001b[0;36mstack\u001b[1;34m(arrays, axis, out)\u001b[0m\n\u001b[0;32m    424\u001b[0m     \u001b[0mshapes\u001b[0m \u001b[1;33m=\u001b[0m \u001b[1;33m{\u001b[0m\u001b[0marr\u001b[0m\u001b[1;33m.\u001b[0m\u001b[0mshape\u001b[0m \u001b[1;32mfor\u001b[0m \u001b[0marr\u001b[0m \u001b[1;32min\u001b[0m \u001b[0marrays\u001b[0m\u001b[1;33m}\u001b[0m\u001b[1;33m\u001b[0m\u001b[1;33m\u001b[0m\u001b[0m\n\u001b[0;32m    425\u001b[0m     \u001b[1;32mif\u001b[0m \u001b[0mlen\u001b[0m\u001b[1;33m(\u001b[0m\u001b[0mshapes\u001b[0m\u001b[1;33m)\u001b[0m \u001b[1;33m!=\u001b[0m \u001b[1;36m1\u001b[0m\u001b[1;33m:\u001b[0m\u001b[1;33m\u001b[0m\u001b[1;33m\u001b[0m\u001b[0m\n\u001b[1;32m--> 426\u001b[1;33m         \u001b[1;32mraise\u001b[0m \u001b[0mValueError\u001b[0m\u001b[1;33m(\u001b[0m\u001b[1;34m'all input arrays must have the same shape'\u001b[0m\u001b[1;33m)\u001b[0m\u001b[1;33m\u001b[0m\u001b[1;33m\u001b[0m\u001b[0m\n\u001b[0m\u001b[0;32m    427\u001b[0m \u001b[1;33m\u001b[0m\u001b[0m\n\u001b[0;32m    428\u001b[0m     \u001b[0mresult_ndim\u001b[0m \u001b[1;33m=\u001b[0m \u001b[0marrays\u001b[0m\u001b[1;33m[\u001b[0m\u001b[1;36m0\u001b[0m\u001b[1;33m]\u001b[0m\u001b[1;33m.\u001b[0m\u001b[0mndim\u001b[0m \u001b[1;33m+\u001b[0m \u001b[1;36m1\u001b[0m\u001b[1;33m\u001b[0m\u001b[1;33m\u001b[0m\u001b[0m\n",
      "\u001b[1;31mValueError\u001b[0m: all input arrays must have the same shape"
     ]
    }
   ],
   "source": [
    "np.stack((even_aaray1, even_array2), axis = 1)\n",
    "##  is not posible couse both arrays doesn't have the same shape I have questiosn about that, please give me on explanation"
   ]
  },
  {
   "cell_type": "markdown",
   "id": "a995e117-94ff-45ab-98e6-39f1315cbf7c",
   "metadata": {},
   "source": [
    "## 4.Create a 6×6 matrix with values ranging from 0 to 36 and retrieve the intersection of the 3rd row and 2nd column"
   ]
  },
  {
   "cell_type": "code",
   "execution_count": 39,
   "id": "41068485-ab3e-4eca-b370-083c2fa43268",
   "metadata": {},
   "outputs": [
    {
     "data": {
      "text/plain": [
       "array([[ 0,  1,  2,  3,  4,  5],\n",
       "       [ 6,  7,  8,  9, 10, 11],\n",
       "       [12, 13, 14, 15, 16, 17],\n",
       "       [18, 19, 20, 21, 22, 23],\n",
       "       [24, 25, 26, 27, 28, 29],\n",
       "       [30, 31, 32, 33, 34, 35]])"
      ]
     },
     "execution_count": 39,
     "metadata": {},
     "output_type": "execute_result"
    }
   ],
   "source": [
    "matrix6x6 = np.arange(0,36)\n",
    "matrix6x6.resize(6,6)\n",
    "matrix6x6"
   ]
  },
  {
   "cell_type": "code",
   "execution_count": 40,
   "id": "5fa1fd7e-82ee-4e07-9d51-12f38347c3a3",
   "metadata": {},
   "outputs": [
    {
     "data": {
      "text/plain": [
       "13"
      ]
     },
     "execution_count": 40,
     "metadata": {},
     "output_type": "execute_result"
    }
   ],
   "source": [
    "matrix6x6[2,1]"
   ]
  },
  {
   "cell_type": "markdown",
   "id": "cde316eb-27a4-439a-8e6b-d610ba18b1d2",
   "metadata": {},
   "source": [
    "## 4.1. Create a 5×2 matrix from a standard normal distribution generated with python."
   ]
  },
  {
   "cell_type": "code",
   "execution_count": 42,
   "id": "7fe4e31f-386d-4ec5-8b0d-fac361687fc5",
   "metadata": {},
   "outputs": [
    {
     "data": {
      "text/plain": [
       "array([[ 0.35201792, -0.73709771],\n",
       "       [ 0.39184943, -1.00920667],\n",
       "       [ 0.08206594,  0.78570836],\n",
       "       [-1.17792551,  0.84263523],\n",
       "       [-1.64036111,  0.84493711]])"
      ]
     },
     "execution_count": 42,
     "metadata": {},
     "output_type": "execute_result"
    }
   ],
   "source": [
    "matrixND = np.random.randn(5,2)\n",
    "matrixND"
   ]
  },
  {
   "cell_type": "markdown",
   "id": "44615bee-6569-4d4a-8ce7-edffabbe6cda",
   "metadata": {},
   "source": [
    "## 4.2. Retrieve the value intersecting the last row and the last column of your matrix"
   ]
  },
  {
   "cell_type": "code",
   "execution_count": 44,
   "id": "df49839a-5dd3-45f4-883c-34b46d1cddce",
   "metadata": {},
   "outputs": [
    {
     "data": {
      "text/plain": [
       "0.8449371116100063"
      ]
     },
     "execution_count": 44,
     "metadata": {},
     "output_type": "execute_result"
    }
   ],
   "source": [
    "matrixND[4,1]"
   ]
  },
  {
   "cell_type": "markdown",
   "id": "f1b2918e-9320-438d-87cc-d7db7838aa43",
   "metadata": {},
   "source": [
    "## 5. Using your matrix created at 4.1, calculate the following:"
   ]
  },
  {
   "cell_type": "code",
   "execution_count": 45,
   "id": "ca8e0e41-1a34-4bad-b778-3d7ecbb36d59",
   "metadata": {},
   "outputs": [
    {
     "data": {
      "text/plain": [
       "array([[ 0.35201792, -0.73709771],\n",
       "       [ 0.39184943, -1.00920667],\n",
       "       [ 0.08206594,  0.78570836],\n",
       "       [-1.17792551,  0.84263523],\n",
       "       [-1.64036111,  0.84493711]])"
      ]
     },
     "execution_count": 45,
     "metadata": {},
     "output_type": "execute_result"
    }
   ],
   "source": [
    "matrixND"
   ]
  },
  {
   "cell_type": "markdown",
   "id": "ef8a4d64-08b5-4526-9079-046d120f34b7",
   "metadata": {},
   "source": [
    "### 5.1. minimum of the matrix"
   ]
  },
  {
   "cell_type": "code",
   "execution_count": 47,
   "id": "5499304b-3bd2-4276-8388-9f565dfbee7e",
   "metadata": {},
   "outputs": [
    {
     "data": {
      "text/plain": [
       "-1.640361110038428"
      ]
     },
     "execution_count": 47,
     "metadata": {},
     "output_type": "execute_result"
    }
   ],
   "source": [
    "matrixND.min()"
   ]
  },
  {
   "cell_type": "markdown",
   "id": "1a4b05c7-64b4-44bc-ac0c-7992663c90b4",
   "metadata": {},
   "source": [
    "### 5.2. maximum of the matrix"
   ]
  },
  {
   "cell_type": "code",
   "execution_count": 49,
   "id": "cd060ff5-ca37-4d44-8cc8-7ac5aa9cf75e",
   "metadata": {},
   "outputs": [
    {
     "data": {
      "text/plain": [
       "0.8449371116100063"
      ]
     },
     "execution_count": 49,
     "metadata": {},
     "output_type": "execute_result"
    }
   ],
   "source": [
    "matrixND.max()"
   ]
  },
  {
   "cell_type": "markdown",
   "id": "75e08473-69bd-4f6e-bc38-a3a1cc6f80e8",
   "metadata": {},
   "source": [
    "### 5.3. standard deviation of the matrix"
   ]
  },
  {
   "cell_type": "code",
   "execution_count": 53,
   "id": "b1981628-5709-4511-b9c8-874724ef2a15",
   "metadata": {},
   "outputs": [
    {
     "data": {
      "text/plain": [
       "0.8834859477356559"
      ]
     },
     "execution_count": 53,
     "metadata": {},
     "output_type": "execute_result"
    }
   ],
   "source": [
    "matrixND.std()"
   ]
  },
  {
   "cell_type": "markdown",
   "id": "576daa2e-e70f-483a-b96a-962a5206805e",
   "metadata": {},
   "source": [
    "### 5.4. variance of the matrix"
   ]
  },
  {
   "cell_type": "code",
   "execution_count": 54,
   "id": "498beea2-2471-4dc7-bdd8-05095a44cef3",
   "metadata": {},
   "outputs": [
    {
     "data": {
      "text/plain": [
       "0.7805474198463702"
      ]
     },
     "execution_count": 54,
     "metadata": {},
     "output_type": "execute_result"
    }
   ],
   "source": [
    "matrixND.var()"
   ]
  },
  {
   "cell_type": "markdown",
   "id": "464d37a1-ab34-4b47-97fd-a9b8b0f627c6",
   "metadata": {},
   "source": [
    "### 5.5. mean of the matrix"
   ]
  },
  {
   "cell_type": "code",
   "execution_count": 55,
   "id": "c57f2a07-0c05-438c-820c-7e7fd1689419",
   "metadata": {},
   "outputs": [
    {
     "data": {
      "text/plain": [
       "-0.12653770178340223"
      ]
     },
     "execution_count": 55,
     "metadata": {},
     "output_type": "execute_result"
    }
   ],
   "source": [
    "matrixND.mean()"
   ]
  }
 ],
 "metadata": {
  "kernelspec": {
   "display_name": "Python 3 (ipykernel)",
   "language": "python",
   "name": "python3"
  },
  "language_info": {
   "codemirror_mode": {
    "name": "ipython",
    "version": 3
   },
   "file_extension": ".py",
   "mimetype": "text/x-python",
   "name": "python",
   "nbconvert_exporter": "python",
   "pygments_lexer": "ipython3",
   "version": "3.9.13"
  }
 },
 "nbformat": 4,
 "nbformat_minor": 5
}
